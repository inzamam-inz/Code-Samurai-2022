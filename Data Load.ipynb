{
 "cells": [
  {
   "cell_type": "code",
   "execution_count": 37,
   "id": "dcaf5c3b",
   "metadata": {},
   "outputs": [],
   "source": [
    "import pandas as pd\n",
    "import numpy as np\n",
    "import json\n",
    "import datetime\n",
    "from datetime import date\n",
    "from math import radians, sin, cos, sqrt, atan2\n",
    "from geopy import distance"
   ]
  },
  {
   "cell_type": "code",
   "execution_count": 2,
   "id": "97eec0c8",
   "metadata": {},
   "outputs": [],
   "source": [
    "df = pd.read_csv(\"projects.csv\")"
   ]
  },
  {
   "cell_type": "code",
   "execution_count": 3,
   "id": "19650b28",
   "metadata": {},
   "outputs": [
    {
     "data": {
      "text/html": [
       "<div>\n",
       "<style scoped>\n",
       "    .dataframe tbody tr th:only-of-type {\n",
       "        vertical-align: middle;\n",
       "    }\n",
       "\n",
       "    .dataframe tbody tr th {\n",
       "        vertical-align: top;\n",
       "    }\n",
       "\n",
       "    .dataframe thead th {\n",
       "        text-align: right;\n",
       "    }\n",
       "</style>\n",
       "<table border=\"1\" class=\"dataframe\">\n",
       "  <thead>\n",
       "    <tr style=\"text-align: right;\">\n",
       "      <th></th>\n",
       "      <th>project_name</th>\n",
       "      <th>category</th>\n",
       "      <th>affiliated_agency</th>\n",
       "      <th>description</th>\n",
       "      <th>project_start_time</th>\n",
       "      <th>project_completion_time</th>\n",
       "      <th>total_budget</th>\n",
       "      <th>completion_percentage</th>\n",
       "      <th>location_coordinates</th>\n",
       "    </tr>\n",
       "  </thead>\n",
       "  <tbody>\n",
       "    <tr>\n",
       "      <th>0</th>\n",
       "      <td>JICA Support Program 3 for Strengthening Mathe...</td>\n",
       "      <td>Education</td>\n",
       "      <td>Ministry of Primary and Mass Education, Direct...</td>\n",
       "      <td>National level of academic skills and knowledg...</td>\n",
       "      <td>2019-04-01</td>\n",
       "      <td>2023-06-30</td>\n",
       "      <td>JPY 380M</td>\n",
       "      <td>77.36%</td>\n",
       "      <td>(23.729211164246585, 90.40874895549243),(23.80...</td>\n",
       "    </tr>\n",
       "    <tr>\n",
       "      <th>1</th>\n",
       "      <td>Project for Capacity Building of Nursing Servi...</td>\n",
       "      <td>Health</td>\n",
       "      <td>Directorate General of Nursing and Midwifery S...</td>\n",
       "      <td>The quality of nursing education is improved i...</td>\n",
       "      <td>2022-03-26</td>\n",
       "      <td>2026-03-25</td>\n",
       "      <td>JPY 300M</td>\n",
       "      <td>22.15%</td>\n",
       "      <td>(23.768773179764562, 90.37269632665758),(23.73...</td>\n",
       "    </tr>\n",
       "    <tr>\n",
       "      <th>2</th>\n",
       "      <td>The Project for Strengthening Health Systems t...</td>\n",
       "      <td>Health</td>\n",
       "      <td>Operational Plans (OPs) of the Ministry of Hea...</td>\n",
       "      <td>The Health status of population in Bangladesh ...</td>\n",
       "      <td>2017-06-29</td>\n",
       "      <td>2022-07-28</td>\n",
       "      <td>JPY 400M</td>\n",
       "      <td>97.55%</td>\n",
       "      <td>(23.728881264793493, 90.40888399782175)</td>\n",
       "    </tr>\n",
       "    <tr>\n",
       "      <th>3</th>\n",
       "      <td>Safe Motherhood Promotion Project</td>\n",
       "      <td>Health</td>\n",
       "      <td>Ministry of Health and Family Welfare*2, Direc...</td>\n",
       "      <td>Approaches of Reproductive Health (RH) service...</td>\n",
       "      <td>2006-07-01</td>\n",
       "      <td>2010-06-30</td>\n",
       "      <td>JPY 350M</td>\n",
       "      <td>100.00%</td>\n",
       "      <td>(23.728881264793493, 90.40888399782175),(23.75...</td>\n",
       "    </tr>\n",
       "    <tr>\n",
       "      <th>4</th>\n",
       "      <td>Safe Motherhood Promotion Project Phase 2</td>\n",
       "      <td>Health</td>\n",
       "      <td>Ministry of Health and Family Welfare*2, Direc...</td>\n",
       "      <td>Maternal and neonatal health status is improve...</td>\n",
       "      <td>2011-07-01</td>\n",
       "      <td>2016-06-30</td>\n",
       "      <td>JPY 420M</td>\n",
       "      <td>100.00%</td>\n",
       "      <td>(23.728881264793493, 90.40888399782175),(23.75...</td>\n",
       "    </tr>\n",
       "  </tbody>\n",
       "</table>\n",
       "</div>"
      ],
      "text/plain": [
       "                                        project_name   category  \\\n",
       "0  JICA Support Program 3 for Strengthening Mathe...  Education   \n",
       "1  Project for Capacity Building of Nursing Servi...     Health   \n",
       "2  The Project for Strengthening Health Systems t...     Health   \n",
       "3                  Safe Motherhood Promotion Project     Health   \n",
       "4          Safe Motherhood Promotion Project Phase 2     Health   \n",
       "\n",
       "                                   affiliated_agency  \\\n",
       "0  Ministry of Primary and Mass Education, Direct...   \n",
       "1  Directorate General of Nursing and Midwifery S...   \n",
       "2  Operational Plans (OPs) of the Ministry of Hea...   \n",
       "3  Ministry of Health and Family Welfare*2, Direc...   \n",
       "4  Ministry of Health and Family Welfare*2, Direc...   \n",
       "\n",
       "                                         description project_start_time  \\\n",
       "0  National level of academic skills and knowledg...         2019-04-01   \n",
       "1  The quality of nursing education is improved i...         2022-03-26   \n",
       "2  The Health status of population in Bangladesh ...         2017-06-29   \n",
       "3  Approaches of Reproductive Health (RH) service...         2006-07-01   \n",
       "4  Maternal and neonatal health status is improve...         2011-07-01   \n",
       "\n",
       "  project_completion_time total_budget completion_percentage  \\\n",
       "0              2023-06-30     JPY 380M                77.36%   \n",
       "1              2026-03-25     JPY 300M                22.15%   \n",
       "2              2022-07-28     JPY 400M                97.55%   \n",
       "3              2010-06-30     JPY 350M               100.00%   \n",
       "4              2016-06-30     JPY 420M               100.00%   \n",
       "\n",
       "                                location_coordinates  \n",
       "0  (23.729211164246585, 90.40874895549243),(23.80...  \n",
       "1  (23.768773179764562, 90.37269632665758),(23.73...  \n",
       "2            (23.728881264793493, 90.40888399782175)  \n",
       "3  (23.728881264793493, 90.40888399782175),(23.75...  \n",
       "4  (23.728881264793493, 90.40888399782175),(23.75...  "
      ]
     },
     "execution_count": 3,
     "metadata": {},
     "output_type": "execute_result"
    }
   ],
   "source": [
    "df.head()"
   ]
  },
  {
   "cell_type": "code",
   "execution_count": 4,
   "id": "6a4d6618",
   "metadata": {},
   "outputs": [
    {
     "name": "stdout",
     "output_type": "stream",
     "text": [
      "3\n"
     ]
    }
   ],
   "source": [
    "number_of_project, number_of_attribute = df.shape[0], df.shape[1]\n",
    "\n",
    "def project_lists():\n",
    "    project_info = []\n",
    "    \n",
    "    for id in range(number_of_project):\n",
    "        loc = df[\"location_coordinates\"][id].split(\"),\")\n",
    "        locations = np.array([]);\n",
    "        \n",
    "        for str in loc:\n",
    "            str = str.replace(\"(\", \"\")\n",
    "            str = str.replace(\")\", \"\")\n",
    "            str = str.replace(\" \", \"\")\n",
    "            #location = str.split(\",\")\n",
    "            location = str\n",
    "            locations = np.append(locations, np.array(location))\n",
    "            \n",
    "        info = {\n",
    "            \"id\": id + 1,\n",
    "            \"project_name\": df[\"project_name\"][id],\n",
    "            \"location_coordinates\": locations\n",
    "        }\n",
    "        project_info.append(info)\n",
    "        \n",
    "    return project_info\n",
    "    \n",
    "print(project_lists()[2][\"id\"])"
   ]
  },
  {
   "cell_type": "code",
   "execution_count": 5,
   "id": "2447c91d",
   "metadata": {},
   "outputs": [
    {
     "name": "stdout",
     "output_type": "stream",
     "text": [
      "<class 'str'>\n"
     ]
    }
   ],
   "source": [
    "def project_info_by_id(id): # id is 1 index based\n",
    "    return df.iloc[id - 1] if 0 < id <= number_of_project else \"Project not found!\"\n",
    "    \n",
    "print(type(project_info_by_id(1)[\"project_start_time\"]))"
   ]
  },
  {
   "cell_type": "code",
   "execution_count": 6,
   "id": "914476fb",
   "metadata": {},
   "outputs": [
    {
     "name": "stdout",
     "output_type": "stream",
     "text": [
      "[{'id': 2, 'project_name': 'Project for Capacity Building of Nursing Services Phase 2', 'location_coordinates': array(['23.768773179764562,90.37269632665758',\n",
      "       '23.733211657612223,90.40993638432778'], dtype='<U36')}, {'id': 3, 'project_name': 'The Project for Strengthening Health Systems through Organizing Communities', 'location_coordinates': array(['23.728881264793493,90.40888399782175'], dtype='<U36')}, {'id': 4, 'project_name': 'Safe Motherhood Promotion Project', 'location_coordinates': array(['23.728881264793493,90.40888399782175',\n",
      "       '23.75363622259384,90.39417243785537',\n",
      "       '23.780215725696586,90.40895332665768'], dtype='<U36')}, {'id': 5, 'project_name': 'Safe Motherhood Promotion Project Phase 2', 'location_coordinates': array(['23.728881264793493,90.40888399782175',\n",
      "       '23.75363622259384,90.39417243785537',\n",
      "       '23.780215725696586,90.40895332665768'], dtype='<U36')}]\n"
     ]
    }
   ],
   "source": [
    "def project_filter_based_on_category(category):\n",
    "    projects = project_lists();\n",
    "    after_filter = [project for project in projects if project_info_by_id(project[\"id\"])[\"category\"] == category]\n",
    "    \n",
    "    return after_filter\n",
    "\n",
    "print(project_filter_based_on_category(\"Health\"))\n",
    "    "
   ]
  },
  {
   "cell_type": "code",
   "execution_count": 7,
   "id": "6e84f1a4",
   "metadata": {},
   "outputs": [
    {
     "data": {
      "text/plain": [
       "[{'id': 3,\n",
       "  'project_name': 'The Project for Strengthening Health Systems through Organizing Communities',\n",
       "  'location_coordinates': array(['23.728881264793493,90.40888399782175'], dtype='<U36')},\n",
       " {'id': 4,\n",
       "  'project_name': 'Safe Motherhood Promotion Project',\n",
       "  'location_coordinates': array(['23.728881264793493,90.40888399782175',\n",
       "         '23.75363622259384,90.39417243785537',\n",
       "         '23.780215725696586,90.40895332665768'], dtype='<U36')},\n",
       " {'id': 5,\n",
       "  'project_name': 'Safe Motherhood Promotion Project Phase 2',\n",
       "  'location_coordinates': array(['23.728881264793493,90.40888399782175',\n",
       "         '23.75363622259384,90.39417243785537',\n",
       "         '23.780215725696586,90.40895332665768'], dtype='<U36')},\n",
       " {'id': 6,\n",
       "  'project_name': 'National Integrity Strategy Support Project Phase 2',\n",
       "  'location_coordinates': array(['23.728407931193587,90.40787482665709'], dtype='<U36')},\n",
       " {'id': 7,\n",
       "  'project_name': 'Project for Capacity Development of City Corporations (C4C)',\n",
       "  'location_coordinates': array(['23.7284766533655,90.40910864263893'], dtype='<U34')},\n",
       " {'id': 8,\n",
       "  'project_name': 'Strengthening Paurashava Governance Project (SPGP)',\n",
       "  'location_coordinates': array(['23.7284766533655,90.40910864263893'], dtype='<U34')},\n",
       " {'id': 10,\n",
       "  'project_name': 'Upazila Integrated Capacity Development Project (UICDP)',\n",
       "  'location_coordinates': array(['23.7284766533655,90.40910864263893'], dtype='<U34')},\n",
       " {'id': 12,\n",
       "  'project_name': 'The Project for Gas Network System Digitalization and Improvement of Operational Efficiency in Gas Sector in Bangladesh',\n",
       "  'location_coordinates': array(['23.728917093659554,90.40956388277749'], dtype='<U36')}]"
      ]
     },
     "execution_count": 7,
     "metadata": {},
     "output_type": "execute_result"
    }
   ],
   "source": [
    "def string_to_date(str):\n",
    "    str = str.split(\"-\")\n",
    "    return date(int(str[0]), int(str[1]), int(str[2]))\n",
    "\n",
    "def project_filter_based_on_timeframe(daterange):\n",
    "    dates = daterange.split(\":\")\n",
    "    if len(dates) < 2:\n",
    "        dates.append(\"\") \n",
    "        \n",
    "    start = string_to_date(dates[0]) if dates[0] != \"\" else date(1, 1, 1)\n",
    "    end = string_to_date(dates[1]) if dates[1] != \"\" else date(9999, 12, 31)\n",
    "        \n",
    "    projects = project_lists()\n",
    "    after_filter = [project for project in projects if string_to_date(project_info_by_id(project[\"id\"])[\"project_start_time\"]) >= start and string_to_date(project_info_by_id(project[\"id\"])[\"project_completion_time\"]) <= end]\n",
    "    return after_filter\n",
    "    \n",
    "#project_filter_based_on_timeframe(\"2014-12-17:2022-12-31\")\n",
    "project_filter_based_on_timeframe(\":2022-12-31\")"
   ]
  },
  {
   "cell_type": "code",
   "execution_count": 8,
   "id": "2e3c5c4a",
   "metadata": {},
   "outputs": [
    {
     "data": {
      "text/plain": [
       "12.508059316569955"
      ]
     },
     "execution_count": 8,
     "metadata": {},
     "output_type": "execute_result"
    }
   ],
   "source": [
    "def time_remaining(id): #percentage\n",
    "    project = project_info_by_id(id)\n",
    "    start, curr, end = string_to_date(project[\"project_start_time\"]), date.today(), string_to_date(project[\"project_completion_time\"])\n",
    "    return ((end - curr) / (end - start)) * 100\n",
    "    \n",
    "time_remaining(1)"
   ]
  },
  {
   "cell_type": "code",
   "execution_count": 48,
   "id": "ec424f4e",
   "metadata": {},
   "outputs": [
    {
     "name": "stdout",
     "output_type": "stream",
     "text": [
      "Distance between the points: 7780.54 km\n"
     ]
    }
   ],
   "source": [
    "def calculate_geo_distance_Haversine_formula(lat1, lon1, lat2, lon2):\n",
    "    lat1, lon1, lat2, lon2 = radians(lat1), radians(lon1), radians(lat2), radians(lon2)\n",
    "    \n",
    "    dlat = lat2 - lat1\n",
    "    dlon = lon2 - lon1\n",
    "    \n",
    "    a = sin(dlat / 2)**2 + cos(lat1) * cos(lat2) * sin(dlon / 2)**2\n",
    "    c = 2 * atan2(sqrt(a), sqrt(1 - a))\n",
    "    \n",
    "    radius = 6371\n",
    "    return radius * c\n",
    "\n",
    "lat1 = 52\n",
    "lon1 = 21\n",
    "lat2 = 21\n",
    "lon2 = 105\n",
    "dist = calculate_geo_distance_Haversine_formula(lat1, lon1, lat2, lon2)\n",
    "print(f\"Distance between the points: {dist:.2f} km\")"
   ]
  },
  {
   "cell_type": "code",
   "execution_count": 57,
   "id": "a4dde124",
   "metadata": {},
   "outputs": [
    {
     "data": {
      "text/plain": [
       "7791560.480953166"
      ]
     },
     "execution_count": 57,
     "metadata": {},
     "output_type": "execute_result"
    }
   ],
   "source": [
    "def calculate_geo_distance_Vincenty_formula(lat1, lon1, lat2, lon2): \n",
    "    return distance.distance((lat1, lon1), (lat2, lon2)).meters\n",
    "\n",
    "calculate_geo_distance_Vincenty_formula(lat1, lon1, lat2, lon2)"
   ]
  },
  {
   "cell_type": "code",
   "execution_count": null,
   "id": "2a858978",
   "metadata": {},
   "outputs": [],
   "source": []
  }
 ],
 "metadata": {
  "kernelspec": {
   "display_name": "Python 3 (ipykernel)",
   "language": "python",
   "name": "python3"
  },
  "language_info": {
   "codemirror_mode": {
    "name": "ipython",
    "version": 3
   },
   "file_extension": ".py",
   "mimetype": "text/x-python",
   "name": "python",
   "nbconvert_exporter": "python",
   "pygments_lexer": "ipython3",
   "version": "3.9.13"
  }
 },
 "nbformat": 4,
 "nbformat_minor": 5
}
