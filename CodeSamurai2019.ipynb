{
 "cells": [
  {
   "cell_type": "code",
   "execution_count": 118,
   "id": "c2734a23",
   "metadata": {},
   "outputs": [],
   "source": [
    "import pandas as pd\n",
    "import numpy as np\n",
    "import csv\n",
    "from geopy import distance\n",
    "from math import radians, sin, cos, sqrt, atan2\n",
    "from heapq import heappop, heappush\n",
    "from collections import defaultdict"
   ]
  },
  {
   "cell_type": "code",
   "execution_count": 119,
   "id": "9d911ef9",
   "metadata": {},
   "outputs": [
    {
     "name": "stdout",
     "output_type": "stream",
     "text": [
      "Index(['DhakaBusBikolpo', '90.364255', '23.828335', '90.364282', '23.827842',\n",
      "       '90.364282.1', '23.827842.1', '90.364237', '23.827834', '90.364237.1',\n",
      "       ...\n",
      "       '90.365139.1', '23.819825.1', '90.365202', '23.819587', '90.365202.1',\n",
      "       '23.819587.1', '90.365339', '23.819078', 'Mirpur12', 'Purobi Hall'],\n",
      "      dtype='object', length=123)\n"
     ]
    },
    {
     "data": {
      "text/plain": [
       "DhakaBusBikolpo    DhakaBusBikolpo\n",
       "90.364255                90.366249\n",
       "23.828335                23.815764\n",
       "90.364282                90.366345\n",
       "23.827842                 23.81541\n",
       "                        ...       \n",
       "23.819587.1                    NaN\n",
       "90.365339                      NaN\n",
       "23.819078                      NaN\n",
       "Mirpur12                       NaN\n",
       "Purobi Hall                    NaN\n",
       "Name: 1, Length: 123, dtype: object"
      ]
     },
     "execution_count": 119,
     "metadata": {},
     "output_type": "execute_result"
    }
   ],
   "source": [
    "dfDhaka = pd.read_csv(\"Routemap-BikolpoBus.csv\", on_bad_lines='skip')\n",
    "print(dfDhaka.columns)\n",
    "dfDhaka.iloc[1]"
   ]
  },
  {
   "cell_type": "code",
   "execution_count": 120,
   "id": "78e7833a",
   "metadata": {},
   "outputs": [
    {
     "name": "stdout",
     "output_type": "stream",
     "text": [
      "353 334\n"
     ]
    },
    {
     "data": {
      "text/plain": [
       "(0.0922738538076624, (17, (15, (13, (11, (9, (7, (5, (3, (1, (0, ())))))))))))"
      ]
     },
     "execution_count": 120,
     "metadata": {},
     "output_type": "execute_result"
    }
   ],
   "source": [
    "node_id = 0\n",
    "edge_id = 0\n",
    "\n",
    "all_node = []\n",
    "all_edge = []\n",
    "\n",
    "def calculate_geo_distance_Vincenty_formula(lat1, lon1, lat2, lon2): \n",
    "    return distance.distance((lat1, lon1), (lat2, lon2)).km\n",
    "\n",
    "def calculate_geo_distance_Haversine_formula2(lat1, lon1, lat2, lon2):\n",
    "    lat1, lon1, lat2, lon2 = radians(lat1), radians(lon1), radians(lat2), radians(lon2)\n",
    "    \n",
    "    dlat = lat2 - lat1\n",
    "    dlon = lon2 - lon1\n",
    "    \n",
    "    a = sin(dlat / 2)**2 + cos(lat1) * cos(lat2) * sin(dlon / 2)**2\n",
    "    c = 2 * atan2(sqrt(a), sqrt(1 - a))\n",
    "    \n",
    "    radius = 6371\n",
    "    return radius * c\n",
    "\n",
    "def calculate_geo_distance_Haversine_formula(u, v):\n",
    "    return calculate_geo_distance_Haversine_formula2(all_node[u].x, all_node[u].y, all_node[v].x, all_node[v].y)\n",
    "\n",
    "def calculate_geo_distance_Vincenty_formula(u, v):\n",
    "    if -90. <= all_node[u].x <= 90.0 and -90. <= all_node[v].x <= 90.0:\n",
    "        print(u, v)\n",
    "        return distance.distance((all_node[u].x, all_node[u].y), (all_node[v].x, all_node[v].y)).km\n",
    "    else:\n",
    "        return 0\n",
    "\n",
    "def find_node_id(x, y):\n",
    "    global node_id\n",
    "    for i in range(node_id):\n",
    "        if all_node[i].x == float(x) and all_node[i].y == float(y):\n",
    "            return i;\n",
    "    return -1 #not found\n",
    "\n",
    "class edge:\n",
    "    def __init__(self, u, v, typ):\n",
    "        global edge_id\n",
    "        self.id = edge_id\n",
    "        self.u = u\n",
    "        self.v = v\n",
    "        self.dist = calculate_geo_distance_Haversine_formula(u, v)\n",
    "        self.type = typ\n",
    "        edge_id = edge_id + 1\n",
    "        \n",
    "\n",
    "class node:\n",
    "    def __init__(self, x, y):\n",
    "        global node_id\n",
    "        self.id = node_id\n",
    "        self.x = float(x)\n",
    "        self.y = float(y)\n",
    "        self.edge = []\n",
    "        node_id = node_id + 1\n",
    "        \n",
    "    def add_edge(self, eg):\n",
    "        self.edge.append(eg)\n",
    "        \n",
    "\n",
    "    \n",
    "with open('Routemap-UttaraBus.csv', 'r') as csv_file:\n",
    "    csv_reader = csv.reader(csv_file)\n",
    "    for row in csv_reader:\n",
    "        for i in range(1, len(row) - 2, 2):\n",
    "            #need a check - is it already a node or not?\n",
    "            all_node.append(node(row[i], row[i + 1]))\n",
    "        for i in range(3, len(row) - 2, 2):\n",
    "            u = find_node_id(row[i - 2], row[i - 1])\n",
    "            v = find_node_id(row[i], row[i + 1])\n",
    "            edg = edge(u, v, \"UB\")\n",
    "            all_node[u].add_edge(edg)\n",
    "            all_edge.append(edg)\n",
    "            #all_node[v].add_edge(edg)  #is it bi-directional?\n",
    "    \n",
    "    global node_id, edge_id\n",
    "    print(node_id, edge_id)\n",
    "\n",
    "def dijkstra(f, t):\n",
    "    q, seen = [(0, f, ())], set()\n",
    "    while q:\n",
    "        (cost, v1, path) = heappop(q)\n",
    "        if v1 not in seen:\n",
    "            seen.add(v1)\n",
    "            path = (v1, path)\n",
    "            if v1 == t: return (cost, path)\n",
    "            \n",
    "            for edg in all_node[v1].edge:\n",
    "                c, v2 = edg.dist, edg.v\n",
    "                if v2 not in seen:\n",
    "                    heappush(q, (cost + c, v2, path))\n",
    "\n",
    "    return float(\"inf\")\n",
    "\n",
    "\n",
    "dijkstra(0, 17)"
   ]
  },
  {
   "cell_type": "code",
   "execution_count": null,
   "id": "06f32db5",
   "metadata": {},
   "outputs": [],
   "source": []
  }
 ],
 "metadata": {
  "kernelspec": {
   "display_name": "Python 3 (ipykernel)",
   "language": "python",
   "name": "python3"
  },
  "language_info": {
   "codemirror_mode": {
    "name": "ipython",
    "version": 3
   },
   "file_extension": ".py",
   "mimetype": "text/x-python",
   "name": "python",
   "nbconvert_exporter": "python",
   "pygments_lexer": "ipython3",
   "version": "3.9.13"
  }
 },
 "nbformat": 4,
 "nbformat_minor": 5
}
